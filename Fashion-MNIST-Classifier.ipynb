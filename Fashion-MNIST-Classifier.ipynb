{
 "cells": [
  {
   "cell_type": "code",
   "execution_count": 40,
   "metadata": {},
   "outputs": [],
   "source": [
    "import torch\n",
    "import torchvision\n",
    "from sklearn.model_selection import train_test_split\n",
    "import torch.nn.functional as F\n",
    "import torch.nn as nn\n",
    "import matplotlib.pyplot as plt\n",
    "import numpy as np\n",
    "from torch.utils.data import TensorDataset, DataLoader \n",
    "import copy"
   ]
  },
  {
   "cell_type": "code",
   "execution_count": 41,
   "metadata": {},
   "outputs": [
    {
     "name": "stderr",
     "output_type": "stream",
     "text": [
      "C:\\Users\\NISHIT\\AppData\\Local\\Temp\\ipykernel_15480\\3845542265.py:4: UserWarning: To copy construct from a tensor, it is recommended to use sourceTensor.clone().detach() or sourceTensor.clone().detach().requires_grad_(True), rather than torch.tensor(sourceTensor).\n",
      "  images = torch.tensor(dataset.data).float()\n",
      "C:\\Users\\NISHIT\\AppData\\Local\\Temp\\ipykernel_15480\\3845542265.py:7: UserWarning: To copy construct from a tensor, it is recommended to use sourceTensor.clone().detach() or sourceTensor.clone().detach().requires_grad_(True), rather than torch.tensor(sourceTensor).\n",
      "  labels = torch.tensor(copy.deepcopy(dataset.targets))\n"
     ]
    }
   ],
   "source": [
    "device = torch.device('cuda:0' if torch.cuda.is_available() else 'cpu')\n",
    "dataset = torchvision.datasets.FashionMNIST(root='datasets')\n",
    "\n",
    "images = torch.tensor(dataset.data).float()\n",
    "images = torch.reshape(input=images, shape=[60000, 1, 28, 28])\n",
    "images = images/torch.max(images)\n",
    "labels = torch.tensor(copy.deepcopy(dataset.targets))"
   ]
  },
  {
   "cell_type": "code",
   "execution_count": 42,
   "metadata": {},
   "outputs": [],
   "source": [
    "train_data, test_data, train_label, test_label = train_test_split(images, labels, test_size = .1)\n",
    "dev_data, test_data, dev_label, test_label = train_test_split(test_data, test_label, test_size= .5)\n",
    "\n",
    "train_dataset = TensorDataset(train_data, train_label)\n",
    "dev_dataset = TensorDataset(dev_data, dev_label)\n",
    "test_dataset = TensorDataset(test_data, test_label)\n",
    "\n",
    "batch_size = 32\n",
    "\n",
    "train_data_loader = DataLoader(dataset = train_dataset, batch_size = batch_size, drop_last = True, shuffle = True)\n",
    "dev_data_loader = DataLoader(dataset = dev_dataset, batch_size = dev_label.shape[0])\n",
    "test_data_loader = DataLoader(dataset = test_dataset, batch_size = test_label.shape[0])"
   ]
  },
  {
   "cell_type": "code",
   "execution_count": 43,
   "metadata": {},
   "outputs": [],
   "source": [
    "class FashionMNISTClassifier(nn.Module):\n",
    "\n",
    "    def __init__(self):\n",
    "\n",
    "        super().__init__()\n",
    "        self.convolution_layer_1 = nn.Conv2d(in_channels=1, out_channels=128, kernel_size=3, padding=1)\n",
    "        self.batch_norm_1 = nn.BatchNorm2d(128)\n",
    "\n",
    "        # output size: (28 + 2*(1) - 3)/1 + 1 = 28 ; 28/2 = 14 (2x2 kernal max pooling effect)\n",
    "\n",
    "        self.convolution_layer_2 = nn.Conv2d(in_channels=128, out_channels=256, kernel_size=3, padding=1)\n",
    "        self.batch_norm_2 = nn.BatchNorm2d(256)\n",
    "\n",
    "        # output size: (14 + 2*(1) - 3)/1 + 1 = 14 ; 14/2 = 7 (2x2 kernal max pooling effect)\n",
    "\n",
    "        self.fully_connected_layer_1 = nn.Linear(7*7*256, 128)\n",
    "        self.batch_norm_1D_1 = nn.BatchNorm1d(128)\n",
    "        self.output_layer = nn.Linear(128, labels.unique().shape[0])\n",
    "    \n",
    "    def forward(self, x):\n",
    "        \n",
    "        x = F.max_pool2d(self.convolution_layer_1(x), 2)\n",
    "        x = F.leaky_relu(self.batch_norm_1(x))\n",
    "        fm1 = x\n",
    "\n",
    "        x = F.max_pool2d(self.convolution_layer_2(x), 2)\n",
    "        x = F.leaky_relu(self.batch_norm_2(x))\n",
    "        fm2 = x\n",
    "\n",
    "        num_elements = int(x.shape.numel() / x.shape[0])\n",
    "        x = x.view(-1, num_elements)\n",
    "        \n",
    "        x = F.leaky_relu(self.batch_norm_1D_1(self.fully_connected_layer_1(x)))\n",
    "\n",
    "        return self.output_layer(x), fm1, fm2\n"
   ]
  },
  {
   "cell_type": "code",
   "execution_count": 44,
   "metadata": {},
   "outputs": [],
   "source": [
    "classifier = FashionMNISTClassifier()\n",
    "loss_function = nn.CrossEntropyLoss()\n",
    "optimizer = torch.optim.Adam(classifier.parameters(), lr = .001, weight_decay=1e-5)\n",
    "\n",
    "classifier.to(device)\n",
    "num_epochs = 10\n",
    "\n",
    "for epoch_i in range(num_epochs):\n",
    "    \n",
    "    for X, y in train_data_loader:\n",
    "        \n",
    "        X = X.to(device)\n",
    "        y = y.to(device)\n",
    "\n",
    "        preds = classifier(X)\n",
    "        loss = loss_function(preds[0], y)\n",
    "        \n",
    "        optimizer.zero_grad()\n",
    "        loss.backward()\n",
    "        optimizer.step() "
   ]
  },
  {
   "cell_type": "code",
   "execution_count": 45,
   "metadata": {},
   "outputs": [
    {
     "data": {
      "image/png": "[encoded data removed]",
      "text/plain": [
       "<Figure size 640x480 with 1 Axes>"
      ]
     },
     "metadata": {},
     "output_type": "display_data"
    },
    {
     "data": {
      "image/png": "[encoded data removed]",
      "text/plain": [
       "<Figure size 1400x1400 with 10 Axes>"
      ]
     },
     "metadata": {},
     "output_type": "display_data"
    },
    {
     "data": {
      "image/png": "[encoded data removed]",
      "text/plain": [
       "<Figure size 700x700 with 10 Axes>"
      ]
     },
     "metadata": {},
     "output_type": "display_data"
    },
    {
     "name": "stdout",
     "output_type": "stream",
     "text": [
      "Devset Accuracy = 93.23333740234375 %\n"
     ]
    }
   ],
   "source": [
    "X, y = next(iter(dev_data_loader))\n",
    "\n",
    "X = X.to(device)\n",
    "y = y.to(device)\n",
    "\n",
    "preds = classifier(X)\n",
    "\n",
    "img_index = 3\n",
    "\n",
    "fm1 = preds[1][img_index].cpu().detach().numpy()\n",
    "fm2 = preds[2][img_index].cpu().detach().numpy()\n",
    "\n",
    "img = X[img_index].cpu().detach().numpy()\n",
    "img = np.transpose(img, (1,2,0))\n",
    "plt.imshow(img, cmap='gray')\n",
    "\n",
    "\n",
    "fig, axes = plt.subplots(1, 10, figsize=(14, 14))  \n",
    "for i in range(10):\n",
    "    axes[i].imshow(fm1[i], cmap='gray')\n",
    "    axes[i].axis('off')  \n",
    "plt.show()\n",
    "\n",
    "fig, axes = plt.subplots(1, 10, figsize=(7, 7))  \n",
    "for i in range(10):\n",
    "    axes[i].imshow(fm2[i], cmap='gray')\n",
    "    axes[i].axis('off')  \n",
    "plt.show()\n",
    "\n",
    "preds = torch.argmax(preds[0], dim=1)\n",
    "result = (preds == y).float()\n",
    "accuracy = ((torch.sum(result) / result.shape[0]) * 100).item()\n",
    "print(\"Devset Accuracy = \"+ str(accuracy) + \" %\")"
   ]
  },
  {
   "cell_type": "code",
   "execution_count": null,
   "metadata": {},
   "outputs": [],
   "source": []
  }
 ],
 "metadata": {
  "kernelspec": {
   "display_name": "Python 3",
   "language": "python",
   "name": "python3"
  },
  "language_info": {
   "codemirror_mode": {
    "name": "ipython",
    "version": 3
   },
   "file_extension": ".py",
   "mimetype": "text/x-python",
   "name": "python",
   "nbconvert_exporter": "python",
   "pygments_lexer": "ipython3",
   "version": "3.10.0"
  },
  "orig_nbformat": 4
 },
 "nbformat": 4,
 "nbformat_minor": 2
}
