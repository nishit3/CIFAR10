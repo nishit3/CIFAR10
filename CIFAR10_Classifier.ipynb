{
 "cells": [
  {
   "cell_type": "code",
   "execution_count": 1,
   "metadata": {},
   "outputs": [
    {
     "name": "stderr",
     "output_type": "stream",
     "text": [
      "c:\\Users\\NISHIT\\AppData\\Local\\Programs\\Python\\Python310\\lib\\site-packages\\tqdm\\auto.py:21: TqdmWarning: IProgress not found. Please update jupyter and ipywidgets. See https://ipywidgets.readthedocs.io/en/stable/user_install.html\n",
      "  from .autonotebook import tqdm as notebook_tqdm\n"
     ]
    }
   ],
   "source": [
    "import torch\n",
    "import torchvision\n",
    "from sklearn.model_selection import train_test_split\n",
    "import torch.nn.functional as F\n",
    "import torch.nn as nn\n",
    "import matplotlib.pyplot as plt\n",
    "import numpy as np\n",
    "from torch.utils.data import TensorDataset, DataLoader \n",
    "import copy"
   ]
  },
  {
   "cell_type": "code",
   "execution_count": 2,
   "metadata": {},
   "outputs": [],
   "source": [
    "device = torch.device('cuda:0' if torch.cuda.is_available() else 'cpu')\n",
    "dataset = torchvision.datasets.CIFAR10(root='datasets')\n",
    "images = torch.tensor(dataset.data).permute(0, 3, 1, 2).float()\n",
    "images = images/torch.max(images)\n",
    "labels = torch.tensor(copy.deepcopy(dataset.targets))"
   ]
  },
  {
   "cell_type": "code",
   "execution_count": 3,
   "metadata": {},
   "outputs": [],
   "source": [
    "train_data, test_data, train_label, test_label = train_test_split(images, labels, test_size = .1)\n",
    "dev_data, test_data, dev_label, test_label = train_test_split(test_data, test_label, test_size= .5)\n",
    "\n",
    "train_dataset = TensorDataset(train_data, train_label)\n",
    "dev_dataset = TensorDataset(dev_data, dev_label)\n",
    "test_dataset = TensorDataset(test_data, test_label)\n",
    "\n",
    "batch_size = 16\n",
    "\n",
    "train_data_loader = DataLoader(dataset = train_dataset, batch_size = batch_size, drop_last = True, shuffle = True)\n",
    "dev_data_loader = DataLoader(dataset = dev_dataset, batch_size = dev_label.shape[0])\n",
    "test_data_loader = DataLoader(dataset = test_dataset, batch_size = test_label.shape[0])"
   ]
  },
  {
   "cell_type": "code",
   "execution_count": 7,
   "metadata": {},
   "outputs": [],
   "source": [
    "class CIFAR10Classifier(nn.Module):\n",
    "\n",
    "    def __init__(self):\n",
    "\n",
    "        super().__init__()\n",
    "        self.convolution_layer_1 = nn.Conv2d(in_channels=3, out_channels=128, kernel_size=3, padding=1)\n",
    "        self.batch_norm_1 = nn.BatchNorm2d(128)\n",
    "\n",
    "        # output size: (32 + 2*(1) - 3)/1 + 1 = 32 ; 32/2 = 16 (2x2 kernal max pooling effect)\n",
    "\n",
    "        self.convolution_layer_2 = nn.Conv2d(in_channels=128, out_channels=256, kernel_size=3, padding=1)\n",
    "        self.batch_norm_2 = nn.BatchNorm2d(256)\n",
    "\n",
    "        # output size: (16 + 2*(1) - 3)/1 + 1 = 16 ; 16/2 = 8 (2x2 kernal max pooling effect)\n",
    "\n",
    "        self.fully_connected_layer_1 = nn.Linear(8*8*256, 128)\n",
    "        self.batch_norm_1D_1 = nn.BatchNorm1d(128)\n",
    "        self.output_layer = nn.Linear(128, 10)\n",
    "    \n",
    "    def forward(self, x):\n",
    "        \n",
    "        x = F.max_pool2d(self.convolution_layer_1(x), 2)\n",
    "        x = F.leaky_relu(self.batch_norm_1(x))\n",
    "        fm1 = x\n",
    "\n",
    "        x = F.max_pool2d(self.convolution_layer_2(x), 2)\n",
    "        x = F.leaky_relu(self.batch_norm_2(x))\n",
    "        fm2 = x\n",
    "\n",
    "        num_elements = int(x.shape.numel() / x.shape[0])\n",
    "        x = x.view(-1, num_elements)\n",
    "        \n",
    "        x = F.leaky_relu(self.batch_norm_1D_1(self.fully_connected_layer_1(x)))\n",
    "\n",
    "        return self.output_layer(x), fm1, fm2\n"
   ]
  },
  {
   "cell_type": "code",
   "execution_count": 8,
   "metadata": {},
   "outputs": [],
   "source": [
    "classifier = CIFAR10Classifier()\n",
    "loss_function = nn.CrossEntropyLoss()\n",
    "optimizer = torch.optim.Adam(classifier.parameters(), lr = .01)\n",
    "\n",
    "classifier.to(device)\n",
    "num_epochs = 10\n",
    "\n",
    "for epoch_i in range(num_epochs):\n",
    "    \n",
    "    for X, y in train_data_loader:\n",
    "        \n",
    "        X = X.to(device)\n",
    "        y = y.to(device)\n",
    "\n",
    "        preds = classifier(X)\n",
    "        loss = loss_function(preds[0], y)\n",
    "        \n",
    "        optimizer.zero_grad()\n",
    "        loss.backward()\n",
    "        optimizer.step() "
   ]
  },
  {
   "cell_type": "code",
   "execution_count": 27,
   "metadata": {},
   "outputs": [
    {
     "data": {
      "image/png": "[encoded data removed]",
      "text/plain": [
       "<Figure size 640x480 with 1 Axes>"
      ]
     },
     "metadata": {},
     "output_type": "display_data"
    },
    {
     "data": {
      "image/png": "[encoded data removed]",
      "text/plain": [
       "<Figure size 1600x1600 with 10 Axes>"
      ]
     },
     "metadata": {},
     "output_type": "display_data"
    },
    {
     "name": "stdout",
     "output_type": "stream",
     "text": [
      "Devset Accuracy = 73.39999389648438 %\n"
     ]
    }
   ],
   "source": [
    "X, y = next(iter(dev_data_loader))\n",
    "\n",
    "X = X.to(device)\n",
    "y = y.to(device)\n",
    "\n",
    "preds = classifier(X)\n",
    "\n",
    "img_index = 1000\n",
    "\n",
    "fm1 = preds[1][img_index].cpu().detach().numpy()\n",
    "fm2 = preds[2][img_index].cpu().detach().numpy()\n",
    "\n",
    "img = X[img_index].cpu().detach().numpy()\n",
    "img = np.transpose(img, (1,2,0))\n",
    "plt.imshow(img)\n",
    "\n",
    "\n",
    "fig, axes = plt.subplots(1, 10, figsize=(16, 16))  \n",
    "for i in range(10):\n",
    "    axes[i].imshow(fm1[i], cmap='gray')\n",
    "    axes[i].axis('off')  \n",
    "plt.show()\n",
    "\n",
    "# fig, axes = plt.subplots(1, 4, figsize=(15, 5))  \n",
    "# for i in range(4):\n",
    "#     axes[i].imshow(fm2[i], cmap='gray')\n",
    "#     axes[i].axis('off')  \n",
    "# plt.show()\n",
    "\n",
    "preds = torch.argmax(preds[0], dim=1)\n",
    "result = (preds == y).float()\n",
    "accuracy = ((torch.sum(result) / result.shape[0]) * 100).item()\n",
    "print(\"Devset Accuracy = \"+ str(accuracy) + \" %\")"
   ]
  },
  {
   "cell_type": "code",
   "execution_count": null,
   "metadata": {},
   "outputs": [],
   "source": []
  }
 ],
 "metadata": {
  "kernelspec": {
   "display_name": "Python 3",
   "language": "python",
   "name": "python3"
  },
  "language_info": {
   "codemirror_mode": {
    "name": "ipython",
    "version": 3
   },
   "file_extension": ".py",
   "mimetype": "text/x-python",
   "name": "python",
   "nbconvert_exporter": "python",
   "pygments_lexer": "ipython3",
   "version": "3.10.0"
  },
  "orig_nbformat": 4
 },
 "nbformat": 4,
 "nbformat_minor": 2
}
